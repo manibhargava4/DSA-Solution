{
 "metadata": {
  "language_info": {
   "codemirror_mode": {
    "name": "ipython",
    "version": 3
   },
   "file_extension": ".py",
   "mimetype": "text/x-python",
   "name": "python",
   "nbconvert_exporter": "python",
   "pygments_lexer": "ipython3",
   "version": "3.8.3"
  },
  "orig_nbformat": 4,
  "kernelspec": {
   "name": "python3",
   "display_name": "Python 3.8.3 64-bit ('base': conda)"
  },
  "interpreter": {
   "hash": "b3ba2566441a7c06988d0923437866b63cedc61552a5af99d1f4fb67d367b25f"
  }
 },
 "nbformat": 4,
 "nbformat_minor": 2,
 "cells": [
  {
   "source": [
    "# Topic - Recursion"
   ],
   "cell_type": "markdown",
   "metadata": {}
  },
  {
   "source": [
    "## Difficulty Medium: Lowest Common Manager:\n",
    "\n",
    "You're given three inputs, all of which are instances of an OrgChart class that have a directReports property pointing to their direct reports. The first input is the top manager in an organizational chart (i.e., the only instance that isn't anybody else's direct report), and the other two inputs are reports in the organizational chart. The two reports are guaranteed to be distinct. -\n",
    "\n",
    "Write a function that returns the lowest common manager to the two reports."
   ],
   "cell_type": "markdown",
   "metadata": {}
  },
  {
   "cell_type": "code",
   "execution_count": 1,
   "metadata": {},
   "outputs": [],
   "source": [
    "# O(n) time | O(d) space - where n is the number of people in the org and d is the depth (height) of the org chart.\n",
    "\n",
    "class orgChart:\n",
    "\n",
    "    def __init__(self):\n",
    "        # Variable to store LCA node.\n",
    "        self.ans = None\n",
    "\n",
    "    def lowestCommonAncestor(self, manager, reportOne, reportTwo):\n",
    "\n",
    "        def recurse_tree(current_node):\n",
    "\n",
    "            # If reached the end of a branch, return False.\n",
    "            if not current_node:\n",
    "                return False\n",
    "\n",
    "            # Left Recursion\n",
    "            left = recurse_tree(current_node.left)\n",
    "\n",
    "            # Right Recursion\n",
    "            right = recurse_tree(current_node.right)\n",
    "\n",
    "            # If the current node is one of p or q\n",
    "            mid = current_node == reportOne or current_node == reportTwo\n",
    "\n",
    "            # If any two of the three flags left, right or mid become True.\n",
    "            if mid + left + right >= 2:\n",
    "                self.ans = current_node\n",
    "\n",
    "            # Return True if either of the three bool values is True.\n",
    "            return mid or left or right\n",
    "\n",
    "        # Traverse the tree\n",
    "        recurse_tree(manager)\n",
    "        return self.ans"
   ]
  },
  {
   "cell_type": "code",
   "execution_count": null,
   "metadata": {},
   "outputs": [],
   "source": [
    "def getLowCommonManager(topMan, reportOne, reportTwo):\n",
    "    return getOrginfo(topMan, reportOne, reportTwo).lowestCommonManager\n",
    "\n",
    "def getOrginfo(manager, reportOne, reportTwo):\n",
    "    importantreports = 0\n",
    "    for report in manager.directReports:\n",
    "        orginfo = getOrginfo(report, reportOne, reportTwo)\n",
    "        if orginfo.lowestCommonManager is not None:\n",
    "            return orginfo\n",
    "        importantreports += orginfo.importantreports\n",
    "\n",
    "    if manager == reportOne or manager == reportTwo:\n",
    "        importantreports += 1\n",
    "    lowestCommonManager = manager if importantreports == 2 else None\n",
    "    return Orginfo(lowestCommonManager, importantreports)\n",
    "\n",
    "class Orginfo:\n",
    "    def __init__(self, lowestCommonManager, importantreports):\n",
    "        self.lowestCommonManager = lowestCommonManager\n",
    "        self.importantreports = importantreports\n",
    "\n",
    "\n",
    "# Input code\n",
    "class OrgChart:\n",
    "    def __init__(self, name):\n",
    "        self.name = name\n",
    "        self.directReports = []\n"
   ]
  },
  {
   "source": [
    "## Difficulty Medium: Interweaving Strings\n",
    "\n",
    "Write a function that takes in three strings and returns a Boolean representing whether the third string can be formed by interweaving the first two strings. To interweave strings means to merge them by alternating their letters without any specific pattern. For instance, the strings \"abc\" and \"123\" can be interwoven as \"alb2c3\", as \"abc123\", and as \"ab1c23\" (this list is nonexhaustive). Letters within a string must maintain their relative ordering in the interwoven string."
   ],
   "cell_type": "markdown",
   "metadata": {}
  },
  {
   "cell_type": "code",
   "execution_count": 6,
   "metadata": {},
   "outputs": [],
   "source": [
    "# O(nm) time | O(nm) space - where n is the length of the first string and m is the length of the second string\n",
    "\n",
    "def weavingString(one, two, three):\n",
    "    if len(three) != len(one) + len(two):\n",
    "        return False\n",
    "\n",
    "    return interWoven(one, two, three, 0, 0)\n",
    "\n",
    "def interWoven(one, two, three, i ,j):\n",
    "    k = i + j\n",
    "    if k == len(three):\n",
    "        return True\n",
    "\n",
    "    if i < len(one) and one[i] == three[k]:\n",
    "        if interWoven(one, two, three, i + 1, j):\n",
    "            return True\n",
    "    if j < len(two) and two[j] == three[k]:\n",
    "        return interWoven(one, two, three, i, j + 1)\n",
    "\n",
    "    return False       \n"
   ]
  },
  {
   "source": [
    "## Difficulty Medium: Solve Sudoku\n",
    "\n",
    "You're given a two-dimensional array that represents a 9x9 partially filled Sudoku board. Write a function that returns the solved Sudoku board. Sudoku is a famous number-placement puzzle in which you need to fill a 9x9 grid with integers in the range of 1-9. Each 9x9 Sudoku board is split into 9 3x3 subgrids, as seen in the illustration below, and starts out partially filled.\n",
    "\n",
    "The objective is to fill the grid such that each row, column, and 3x3 subgrid contains the numbers 1-9 exactly once. In other words, no row may contain the same digit more than once, no column may contain the same digit more than once, and none of the 9 3x3 subgrids may contain the same digit more than once. Your input for this problem will always be a partially filled 9x9 two-dimensional array that represents a solvable Sudoku puzzle. Every element in the array will be an integer in the range of 8-9, where a represents an empty square that must be filled by your algorithm. Note that you may modify the input array and that there will always be exactly one solution to each input Sudoku board."
   ],
   "cell_type": "markdown",
   "metadata": {}
  },
  {
   "cell_type": "code",
   "execution_count": 7,
   "metadata": {},
   "outputs": [],
   "source": [
    "# O(1) time | O(1) space - assuming a 9x9 input board\n",
    "\n",
    "def find_next_empty(puzzle):\n",
    "    for r in range(9):\n",
    "        for c in range(9):\n",
    "            if puzzle[r][c] == -1:\n",
    "                return r, c\n",
    "    return None, None # No spaces\n",
    "\n",
    "\n",
    "\n",
    "def is_valid(puzzle, guess, row, col):\n",
    "    row_vals = puzzle[row]\n",
    "    if guess in row_vals:\n",
    "        return False\n",
    "    \n",
    "    col_vals = [puzzle[i][col] for i in range(9)]\n",
    "    if guess in col_vals:\n",
    "        return False\n",
    "\n",
    "    row_start = (row // 3 ) * 3\n",
    "    col_start = (col // 3 ) * 3 \n",
    "\n",
    "    for r in range(row_start, row_start + 3):\n",
    "        for c in range(col_start, col_start + 3):\n",
    "            if puzzle[r][c] == guess:\n",
    "                return False\n",
    "    \n",
    "    return True\n",
    "\n",
    "\n",
    "\n",
    "def solve_sudoku(puzzle):\n",
    "    # solving sudoku using backtracking\n",
    "\n",
    "    # step1: chossing somewhere on the puzzle to make a guess\n",
    "    row, col = find_next_empty(puzzle)\n",
    "\n",
    "    if row is None:\n",
    "        return True\n",
    "\n",
    "    for guess in range(1, 10):\n",
    "        # checking the guess\n",
    "        if is_valid(puzzle, guess, row, col):\n",
    "            puzzle[row][col] = guess\n",
    "\n",
    "            if solve_sudoku(puzzle):\n",
    "                return True\n",
    "\n",
    "        puzzle[row][col] = -1\n",
    "\n",
    "    return False\n"
   ]
  },
  {
   "cell_type": "code",
   "execution_count": 9,
   "metadata": {},
   "outputs": [
    {
     "output_type": "execute_result",
     "data": {
      "text/plain": [
       "True"
      ]
     },
     "metadata": {},
     "execution_count": 9
    }
   ],
   "source": [
    "puzzle = [\n",
    "    [7,8,0,4,0,0,1,2,0],\n",
    "    [1,0,0,4,0,0,1,2,0],\n",
    "    [0,1,1,4,0,0,1,2,0],\n",
    "    [3,8,1,4,0,0,1,2,0],\n",
    "    [4,8,2,4,0,0,1,2,0],\n",
    "    [0,8,1,4,0,0,1,2,0],\n",
    "    [1,8,4,4,0,0,1,2,0],\n",
    "    [2,8,4,4,0,0,1,2,0],\n",
    "    [2,8,4,4,0,0,1,2,0],\n",
    "]\n",
    "solve_sudoku(puzzle)"
   ]
  },
  {
   "cell_type": "code",
   "execution_count": null,
   "metadata": {},
   "outputs": [],
   "source": []
  }
 ]
}
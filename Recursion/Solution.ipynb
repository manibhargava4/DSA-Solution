{
 "cells": [
  {
   "cell_type": "markdown",
   "metadata": {},
   "source": [
    "# Topic - Recursion"
   ]
  },
  {
   "cell_type": "markdown",
   "metadata": {},
   "source": [
    "## Easy – Difficulty: Nth Fibonacci"
   ]
  },
  {
   "cell_type": "markdown",
   "metadata": {},
   "source": [
    "**Problem Statement:**\n",
    "\n",
    " The Fibonacci sequence is defined as follows: the first number of the sequence is 0, the\n",
    "second number is 1 and the nth number is the sum of the (n - 1)th and (n - 2)th numbers. Write a\n",
    "function that takes in an integer n and returns the nth Fibonacci number.\n",
    "\n",
    " Important note: the Fibonacci sequence is often defined with its first two numbers as F0 = 0 and\n",
    "F1= 1. For the purpose of this question, the first Fibonacci number is F0; therefore, getNthFib(1) is\n",
    "equal to F0, getNthFib(2) is equal to F1, etc.."
   ]
  },
  {
   "cell_type": "markdown",
   "metadata": {},
   "source": [
    "**O(2^n) time O(n) space (Time and space complexity)**"
   ]
  },
  {
   "cell_type": "code",
   "execution_count": 6,
   "metadata": {},
   "outputs": [],
   "source": [
    "def getNthFib(n):\n",
    "    \n",
    "    # Check if n is less than 0\n",
    "    if n < 0:\n",
    "        print(\"Incorrect input\")\n",
    "        \n",
    "    # Base case 1\n",
    "    # check for n = 0 and n = 1\n",
    "    elif n == 0 or n == 1:\n",
    "        return 0\n",
    "    \n",
    "    # Base case 2\n",
    "    elif n == 2:\n",
    "        return 1\n",
    "    \n",
    "    # Recursion\n",
    "    else:\n",
    "        return getNthFib(n-1) + getNthFib(n-2)"
   ]
  },
  {
   "cell_type": "code",
   "execution_count": 7,
   "metadata": {},
   "outputs": [
    {
     "data": {
      "text/plain": [
       "1"
      ]
     },
     "execution_count": 7,
     "metadata": {},
     "output_type": "execute_result"
    }
   ],
   "source": [
    "getNthFib(2)"
   ]
  },
  {
   "cell_type": "markdown",
   "metadata": {},
   "source": [
    "## Easy – Difficulty: – Product Sum"
   ]
  },
  {
   "cell_type": "markdown",
   "metadata": {},
   "source": [
    "**Problem Statement:**\n",
    "\n",
    "Write a function that takes in a \"special\" array and returns its product sum.\n",
    "\n",
    " A \"special\" array is a non-empty array that contains either integers or other\n",
    " \"special\" arrays. The product sum of a \"special\" array is the sum of its\n",
    " elements, where \"special\" arrays inside it are summed themselves and then\n",
    " multiplied by their level of depth.\n",
    " \n",
    " The depth of a \"special\" array is how far nested it is. For instance, the\n",
    " depth of []is 1;\n",
    " \n",
    " the depth of the inner array in\n",
    " [[]] is 2;\n",
    " \n",
    " the depth of the innermost array in\n",
    " [[[]]] is 3.\n",
    " \n",
    " Therefore, the product sum of [x, y] is x + y; \n",
    " \n",
    " the\n",
    " product sum of [x, [y, z]] is x + 2 * (y + z); \n",
    " \n",
    " the\n",
    " product sum of [x, [y, [z]]] is x + 2 * (y + 3z)"
   ]
  },
  {
   "cell_type": "code",
   "execution_count": 8,
   "metadata": {},
   "outputs": [],
   "source": [
    "# O(n) time | O(d) space\n",
    "# where n is total number of elements in array including sub-elements \n",
    "# where d is greatest depth of special arrays in array"
   ]
  },
  {
   "cell_type": "code",
   "execution_count": 9,
   "metadata": {},
   "outputs": [],
   "source": [
    "def prodsum(array, depth=1):\n",
    "    sum = 0\n",
    "    \n",
    "    for element in array:\n",
    "        \n",
    "        # Recursion\n",
    "        if type(element) is list:\n",
    "            return prodsum(element, depth + 1)\n",
    "        \n",
    "        # Base case\n",
    "        else:\n",
    "            sum +=  element\n",
    "    return sum*depth"
   ]
  },
  {
   "cell_type": "code",
   "execution_count": 10,
   "metadata": {},
   "outputs": [
    {
     "data": {
      "text/plain": [
       "24"
      ]
     },
     "execution_count": 10,
     "metadata": {},
     "output_type": "execute_result"
    }
   ],
   "source": [
    "prodsum([2,[5,6,[8]]])"
   ]
  },
  {
   "cell_type": "code",
   "execution_count": 11,
   "metadata": {},
   "outputs": [
    {
     "data": {
      "text/plain": [
       "12"
      ]
     },
     "execution_count": 11,
     "metadata": {},
     "output_type": "execute_result"
    }
   ],
   "source": [
    "prodsum([5, 2, [7, -1], 3, [6, [-13, 8], 4]])"
   ]
  },
  {
   "cell_type": "markdown",
   "metadata": {},
   "source": [
    "## Medium – Difficulty: – Permutations"
   ]
  },
  {
   "cell_type": "markdown",
   "metadata": {},
   "source": [
    "**Problem Statement:**\n",
    "\n",
    " Write a function that takes in an array of unique integers and returns an\n",
    " array of all permutations of those integers in no particular order.\n",
    " \n",
    "If the input array is empty, the function should return an empty array"
   ]
  },
  {
   "cell_type": "code",
   "execution_count": 37,
   "metadata": {},
   "outputs": [],
   "source": [
    "def getPermutations(array):\n",
    "    permutations = []\n",
    "    permutHelper(array, 0, permutations)\n",
    "    return permutations\n",
    "\n",
    "def permutHelper(array, i, permutations):\n",
    "    if i == len(array) - 1:\n",
    "        permutations.append(array[:])\n",
    "        \n",
    "    else:\n",
    "        for j in range(i, len(array)):\n",
    "            swap(array, i, j)\n",
    "            permutHelper(array, i + 1, permutations)\n",
    "            swap(array, i, j)\n",
    "            \n",
    "def swap(array, i, j):\n",
    "    array[i], array[j] = array[j], array[i]\n",
    "        "
   ]
  },
  {
   "cell_type": "code",
   "execution_count": 39,
   "metadata": {},
   "outputs": [
    {
     "data": {
      "text/plain": [
       "[[1, 2, 3], [1, 3, 2], [2, 1, 3], [2, 3, 1], [3, 2, 1], [3, 1, 2]]"
      ]
     },
     "execution_count": 39,
     "metadata": {},
     "output_type": "execute_result"
    }
   ],
   "source": [
    "getPermutations([1,2,3])"
   ]
  }
 ],
 "metadata": {
  "kernelspec": {
   "display_name": "Python 3",
   "language": "python",
   "name": "python3"
  },
  "language_info": {
   "codemirror_mode": {
    "name": "ipython",
    "version": 3
   },
   "file_extension": ".py",
   "mimetype": "text/x-python",
   "name": "python",
   "nbconvert_exporter": "python",
   "pygments_lexer": "ipython3",
   "version": "3.8.3"
  }
 },
 "nbformat": 4,
 "nbformat_minor": 4
}

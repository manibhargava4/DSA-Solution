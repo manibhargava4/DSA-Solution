{
 "metadata": {
  "language_info": {
   "codemirror_mode": {
    "name": "ipython",
    "version": 3
   },
   "file_extension": ".py",
   "mimetype": "text/x-python",
   "name": "python",
   "nbconvert_exporter": "python",
   "pygments_lexer": "ipython3",
   "version": "3.8.3"
  },
  "orig_nbformat": 4,
  "kernelspec": {
   "name": "python3",
   "display_name": "Python 3.8.3 64-bit ('base': conda)"
  },
  "interpreter": {
   "hash": "b3ba2566441a7c06988d0923437866b63cedc61552a5af99d1f4fb67d367b25f"
  }
 },
 "nbformat": 4,
 "nbformat_minor": 2,
 "cells": [
  {
   "source": [
    "# Topic - Recursion"
   ],
   "cell_type": "markdown",
   "metadata": {}
  },
  {
   "source": [
    "## Easy – Difficulty: \n",
    "\n",
    "Powerset Write a function that takes in an array of unique integers and returns its powerset. The powerset P(X) of a set X is the set of all subsets of X. For example, the powerset of [1,2] is [[], [1], [2], [1,2]]. Note that the sets in the powerset do not need to be in any particular order."
   ],
   "cell_type": "markdown",
   "metadata": {}
  },
  {
   "cell_type": "code",
   "execution_count": 2,
   "metadata": {},
   "outputs": [],
   "source": [
    "# O(2^n) Space | O(2^n) Time\n",
    "\n",
    "def powerSet_array(L):\n",
    "    if len(L) == 0:\n",
    "        return [[]]\n",
    "    else:\n",
    "        base = powerSet(L[:-1])\n",
    "        operator = L[-1:]\n",
    "        return base + [(b + operator) for b in base]\n",
    "\n",
    "    "
   ]
  },
  {
   "cell_type": "code",
   "execution_count": 3,
   "metadata": {},
   "outputs": [
    {
     "output_type": "execute_result",
     "data": {
      "text/plain": [
       "[[],\n",
       " [1],\n",
       " [2],\n",
       " [1, 2],\n",
       " [3],\n",
       " [1, 3],\n",
       " [2, 3],\n",
       " [1, 2, 3],\n",
       " [4],\n",
       " [1, 4],\n",
       " [2, 4],\n",
       " [1, 2, 4],\n",
       " [3, 4],\n",
       " [1, 3, 4],\n",
       " [2, 3, 4],\n",
       " [1, 2, 3, 4]]"
      ]
     },
     "metadata": {},
     "execution_count": 3
    }
   ],
   "source": [
    "powerSet_array([1,2,3,4])"
   ]
  },
  {
   "source": [
    "## Easy – Difficulty: Staircase Traversal\n",
    "\n",
    "You're given two positive integers representing the height of a staircase and the maximum number of steps that you can advance up the staircase at a time. Write a function that returns the number of ways in which you can climb the staircase.\n",
    "\n",
    "For example, if you were given a staircase of height = 3 and maxSteps = 2 you could climb the staircase in 3 ways. You could take 1 step, 1 step, then 1 step,\n",
    "you could also take 1 step, then 2 steps , and you could take 1 step, then 2 steps , and you could take 2 steps, then 1 step"
   ],
   "cell_type": "markdown",
   "metadata": {}
  },
  {
   "cell_type": "code",
   "execution_count": 4,
   "metadata": {},
   "outputs": [],
   "source": [
    "# O(n) time | O(n) space - where n is the height of the staircase\n",
    "\n",
    "def staircase(height, maxsteps):\n",
    "    if height <= 1:\n",
    "        return 1\n",
    "\n",
    "    waysToClimb = 0\n",
    "    for i in range(1, min(maxsteps, height) + 1):\n",
    "        waysToClimb += staircase(height - i , maxsteps)\n",
    "\n",
    "    return waysToClimb"
   ]
  },
  {
   "cell_type": "code",
   "execution_count": 6,
   "metadata": {},
   "outputs": [
    {
     "output_type": "execute_result",
     "data": {
      "text/plain": [
       "8"
      ]
     },
     "metadata": {},
     "execution_count": 6
    }
   ],
   "source": [
    "staircase(5,2)"
   ]
  },
  {
   "source": [
    "## Medium – Difficulty: Phone Number Mnemonics \n",
    "\n",
    "If you open the keypad of your mobile phone, it'll likely look like this:\n",
    "\n",
    "Almost every digit is associated with some letters in the alphabet; this allows certain phone numbers to spell out actual words. For example, the phone number 8464747328 can be written as timisgreat ; similarly, the phone number 2686463 can be written as antoine or as ant6463.\n",
    "\n",
    "It's important to note that a phone number doesn't represent a single sequence of letters, but rather multiple combinations of letters. For instance, the digit 2 can represent three different letters (a, b, and c).\n",
    "\n",
    "A mnemonic is defined as a pattern of letters, ideas, or associations that assist in remembering something. Companies oftentimes use a mnemonic for their phone number to make it easier to remember.\n",
    "\n",
    "Given a stringified phone number of any non-zero length, write a function that returns all mnemonics for this phone number, in any order.\n",
    "\n",
    "For this problem, a valid mnemonic may only contain letters and the digits 0 and 1. In other words, if a digit is able to be represented by a letter, then it\n",
    "must be. Digits 0 and 1 are the only two digits that don't have letter representations on the keypad."
   ],
   "cell_type": "markdown",
   "metadata": {}
  },
  {
   "cell_type": "code",
   "execution_count": 8,
   "metadata": {},
   "outputs": [],
   "source": [
    "# O(4^n * n) time | O(4^n * n) space - where n is the length of the phone number\n",
    "\n",
    "digit_letters = {\n",
    "    \"0\": [\"0\"],\n",
    "    \"1\": [\"1\"],\n",
    "    \"2\": [\"a\", \"b\", \"c\"],\n",
    "    \"3\": [\"d\", \"e\", \"f\"],\n",
    "    \"4\": [\"g\", \"h\", \"i\"],\n",
    "    \"5\": [\"j\", \"k\", \"l\"],\n",
    "    \"6\": [\"m\", \"n\", \"o\"],\n",
    "    \"7\": [\"p\", \"q\", \"r\", \"s\"],\n",
    "    \"8\": [\"t\", \"u\", \"v\"],\n",
    "    \"9\": [\"w\", \"x\", \"y\", \"z\"],\n",
    "}\n",
    "\n",
    "def mnemonics_phoneNumber(phone_no):\n",
    "    curr_mnem = [0] * len(phone_no)\n",
    "    mnemonics = []\n",
    "\n",
    "    mnemonicsHelper(0, phone_no, curr_mnem, mnemonics)\n",
    "\n",
    "    return mnemonics \n",
    "\n",
    "def mnemonicsHelper(idx, phone_no, curr_mnem, mnemonics):\n",
    "    if idx == len(phone_no):\n",
    "       mnemonic = \"\".join(curr_mnem)\n",
    "       mnemonics.append(mnemonic)\n",
    "\n",
    "    else:\n",
    "        num = phone_no[idx]\n",
    "        letters = digit_letters[num]\n",
    "        for letter in letters:\n",
    "            curr_mnem[idx] = letter\n",
    "            mnemonicsHelper(idx + 1, phone_no, curr_mnem, mnemonics)\n"
   ]
  },
  {
   "cell_type": "code",
   "execution_count": 10,
   "metadata": {},
   "outputs": [
    {
     "output_type": "execute_result",
     "data": {
      "text/plain": [
       "['1jd', '1je', '1jf', '1kd', '1ke', '1kf', '1ld', '1le', '1lf']"
      ]
     },
     "metadata": {},
     "execution_count": 10
    }
   ],
   "source": [
    "mnemonics_phoneNumber(\"153\")"
   ]
  },
  {
   "cell_type": "code",
   "execution_count": null,
   "metadata": {},
   "outputs": [],
   "source": []
  }
 ]
}
{
 "metadata": {
  "language_info": {
   "codemirror_mode": {
    "name": "ipython",
    "version": 3
   },
   "file_extension": ".py",
   "mimetype": "text/x-python",
   "name": "python",
   "nbconvert_exporter": "python",
   "pygments_lexer": "ipython3",
   "version": "3.8.3"
  },
  "orig_nbformat": 4,
  "kernelspec": {
   "name": "python3",
   "display_name": "Python 3.8.3 64-bit ('base': conda)"
  },
  "interpreter": {
   "hash": "b3ba2566441a7c06988d0923437866b63cedc61552a5af99d1f4fb67d367b25f"
  }
 },
 "nbformat": 4,
 "nbformat_minor": 2,
 "cells": [
  {
   "source": [
    "# Topic - Recursion"
   ],
   "cell_type": "markdown",
   "metadata": {}
  },
  {
   "source": [
    "## Difficulty Medium: Generate Div Tags\n",
    "\n",
    "Write a function that takes in a positive integer numberOfTags and returns a list of all the valid strings that you can generate with that number of matched <div></div> tags.\n",
    "A string is valid and contains matched <div></div> tags if for every opening tag <div>, there is a closing tag </div> that comes after the opening tag and that isn't used as a closing tag for another opening tag. Each output string should contain exactly same numberOfTags opening tags and numberOfTags closing tags."
   ],
   "cell_type": "markdown",
   "metadata": {}
  },
  {
   "cell_type": "code",
   "execution_count": 1,
   "metadata": {},
   "outputs": [],
   "source": [
    "def divTags(numberofTags):\n",
    "   matchedDivTags = []\n",
    "   divTagsFromPrefix(numberofTags, numberofTags, \"\", matchedDivTags)\n",
    "   return matchedDivTags\n",
    "\n",
    "def divTagsFromPrefix(opTagsneeded, clTagsneeded, prefix, result):\n",
    "    if opTagsneeded > 0:\n",
    "        newPrefix = prefix + \"<div>\"\n",
    "        divTagsFromPrefix(opTagsneeded - 1, clTagsneeded, newPrefix, result)\n",
    "\n",
    "    if opTagsneeded < clTagsneeded:\n",
    "        newPrefix = prefix + \"</div>\"\n",
    "        divTagsFromPrefix(opTagsneeded , clTagsneeded - 1, newPrefix, result)\n",
    "\n",
    "    if clTagsneeded == 0:\n",
    "        result.append(prefix)"
   ]
  },
  {
   "source": [
    "## Difficulty Medium: Ambiguous Measurements\n",
    "\n",
    "This problem deals with measuring cups that are missing important measuring labels. Specifically, a measuring cup only has two measuring lines. a Low (L) line and a High (H) line. This means that these cups can't precisely measure and can only guarantee that the substance poured into them will be between the Land H line. For example, you might have a measuring cup that has a Low line at 400ml and a high line at 435ml. This means that when you use this measuring cup, you can only be sure that what you're measuring is between 400ml and 435ml. You're given a list of measuring cups containing their low and high lines as well as one low integer and one high integer representing a range for a target measurement. Write a function that returns a Boolean representing whether you can use the cups to accurately measure a volume in the specified [Low, high] range (the range is inclusive).\n",
    "\n",
    "Note that:\n",
    "\n",
    "• Each measuring cup will be represented by a pair of positive integers [L, H]. where 0 <= L <= H\n",
    "\n",
    "• You'll always be given at least one measuring cup, and the low and high input parameters will always satisfy the following constraint: 0 <= Low <= high.\n",
    "\n",
    "• Once you've measured some liquid, it will immediately be transferred to a larger bowl that will eventually (possibly) contain the target measurement.\n",
    "\n",
    "• You can't pour the contents of one measuring cup into another"
   ],
   "cell_type": "markdown",
   "metadata": {}
  },
  {
   "cell_type": "code",
   "execution_count": 2,
   "metadata": {},
   "outputs": [],
   "source": [
    "def ambigMeasure(measureCups, low, high):\n",
    "    memorization = []\n",
    "    return measureInRange(measureCups, low, high, memorization)\n",
    "\n",
    "def measureInRange(measureCups, low, high, memorization):\n",
    "    memorizeKey = createHashable(low, high)\n",
    "    if memorizeKey in memorization:\n",
    "        return memorization[memorizeKey]\n",
    "\n",
    "    if low < 0 and high < 0:\n",
    "        return False\n",
    "\n",
    "    canMeasure = False\n",
    "    for cup in measureCups:\n",
    "        cupLow, cupHigh = cup\n",
    "        if low < cupLow and cupHigh < high:\n",
    "            canMeasure = True\n",
    "            break\n",
    "\n",
    "        newLow = max(0, low-cupLow)\n",
    "        newHigh = max(0, high-cupHigh)\n",
    "        canMeasure = measureInRange(measureCups, low, high, memorization)\n",
    "        if canMeasure:\n",
    "            break\n",
    "\n",
    "    memorization[memorizeKey] == canMeasure\n",
    "    return canMeasure\n",
    "\n",
    "def createHashable(low, high):\n",
    "    return str(low) + \":\" + str(high)"
   ]
  },
  {
   "source": [
    "## Difficulty Hard: Number Of Binary Tree Topologies\n",
    "\n",
    "Write a function that takes in a non-negative integer n and returns the number of possible Binary Tree topologies that can be created with exactly n nodes. A Binary Tree topology is defined as any Binary Tree configuration, irrespective of node values. For instance, there exist only two Binary Tree topologies when n is equal to 2:a root node with a left node, and a root node with a right node. Note that when n is equal to 0, there's one topology that can be created: the none/null node."
   ],
   "cell_type": "markdown",
   "metadata": {}
  },
  {
   "cell_type": "code",
   "execution_count": 7,
   "metadata": {},
   "outputs": [],
   "source": [
    "def binaryTreeTopology(n):\n",
    "    cache = [1]\n",
    "\n",
    "    for m in range(1, n+1):\n",
    "        numberofTrees = 0\n",
    "        for leftTree in range(m):\n",
    "            rightTree = m - 1 - leftTree\n",
    "            numberLeftTrees = cache[leftTree]\n",
    "            numberRightTrees = cache[rightTree]\n",
    "            numberofTrees += numberRightTrees * numberLeftTrees\n",
    "        cache.append(numberofTrees)\n",
    "    return cache[n]\n"
   ]
  },
  {
   "cell_type": "code",
   "execution_count": 8,
   "metadata": {},
   "outputs": [
    {
     "output_type": "execute_result",
     "data": {
      "text/plain": [
       "5"
      ]
     },
     "metadata": {},
     "execution_count": 8
    }
   ],
   "source": [
    "binaryTreeTopology(3)"
   ]
  },
  {
   "source": [
    "## Difficulty Hard: Non-Attacking Queens\n",
    "\n",
    "Write a function that takes in a positive integer n and returns the number of non-attacking placements of n queens on an nxn chessboard. A non-attacking placement is one where no queen can attack another queen in a single turn. In other words, it's a placement where no queen can move to the same position as another queen in a single turn. In chess, queens can move any number of squares horizontally, vertically, or diagonally in a single turn."
   ],
   "cell_type": "markdown",
   "metadata": {}
  },
  {
   "cell_type": "code",
   "execution_count": 9,
   "metadata": {},
   "outputs": [],
   "source": [
    "def nonAttackQueens(n):\n",
    "    columnPlacement = [0] * n\n",
    "    return nonAttackQueenPlacements(0, columnPlacement, n)\n",
    "\n",
    "def nonAttackQueenPlacements(row, columnPlacement, boardsize):\n",
    "    if row == boardsize:\n",
    "        return 1\n",
    "\n",
    "    validPlaces = 0\n",
    "    for col in range(boardsize):\n",
    "        if isnotAttackingQueenPlaces(row, col, columnPlacement):\n",
    "            columnPlacement[row] = col\n",
    "            validPlaces += nonAttackQueenPlacements(row + 1, columnPlacement, boardsize)\n",
    "\n",
    "    return validPlaces\n",
    "\n",
    "\n",
    "def isnotAttackingQueenPlaces(row, col, columnPlacement):\n",
    "    for previousrow in range(row):\n",
    "        columnCheck = columnPlacement[previousrow]\n",
    "        sameColumn = columnCheck == col\n",
    "        onDiagonal = abs(columnCheck - col) == row - previousrow\n",
    "        if sameColumn or onDiagonal:\n",
    "            return False\n",
    "\n",
    "    return True\n"
   ]
  },
  {
   "cell_type": "code",
   "execution_count": 10,
   "metadata": {},
   "outputs": [
    {
     "output_type": "execute_result",
     "data": {
      "text/plain": [
       "2"
      ]
     },
     "metadata": {},
     "execution_count": 10
    }
   ],
   "source": [
    "nonAttackQueens(4)"
   ]
  },
  {
   "cell_type": "code",
   "execution_count": null,
   "metadata": {},
   "outputs": [],
   "source": []
  }
 ]
}
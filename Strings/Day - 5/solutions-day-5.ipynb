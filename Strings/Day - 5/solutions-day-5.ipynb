{
 "metadata": {
  "language_info": {
   "codemirror_mode": {
    "name": "ipython",
    "version": 3
   },
   "file_extension": ".py",
   "mimetype": "text/x-python",
   "name": "python",
   "nbconvert_exporter": "python",
   "pygments_lexer": "ipython3",
   "version": "3.8.3"
  },
  "orig_nbformat": 4,
  "kernelspec": {
   "name": "python3",
   "display_name": "Python 3.8.3 64-bit ('base': conda)"
  },
  "interpreter": {
   "hash": "b3ba2566441a7c06988d0923437866b63cedc61552a5af99d1f4fb67d367b25f"
  }
 },
 "nbformat": 4,
 "nbformat_minor": 2,
 "cells": [
  {
   "source": [
    "# Topic - Strings"
   ],
   "cell_type": "markdown",
   "metadata": {}
  },
  {
   "source": [
    "## Difficulty Easy: Palindrome Check\n",
    "\n",
    "Write a function that takes in a non-empty string and that returns a Boolean\n",
    "representing whether the string is a palindrome. A palindrome is defined as a\n",
    "string that's written the same forward and backward. Note that single-character\n",
    "strings are palindromes.\n"
   ],
   "cell_type": "markdown",
   "metadata": {}
  },
  {
   "cell_type": "code",
   "execution_count": 1,
   "metadata": {},
   "outputs": [],
   "source": [
    "# Space-TIme Complexity:\n",
    "# O(n) time | O(1) space - where n is the length of the input string\n",
    "\n",
    "def palindrome(s):\n",
    "    return s == s[::-1]\n",
    "    "
   ]
  },
  {
   "cell_type": "code",
   "execution_count": 3,
   "metadata": {},
   "outputs": [
    {
     "output_type": "execute_result",
     "data": {
      "text/plain": [
       "True"
      ]
     },
     "metadata": {},
     "execution_count": 3
    }
   ],
   "source": [
    "palindrome(\"abcdcba\")"
   ]
  },
  {
   "source": [
    "## Difficulty Easy: Caesar Cipher Encryptor\n",
    "\n",
    "Given a non-empty string of lowercase letters and a non-negative integer\n",
    "representing a key, write a function that returns a new string obtained by\n",
    "shifting every letter in the input string by k positions in the alphabet, where k\n",
    "is the key. Note that letters should \"wrap\" around the alphabet; in other\n",
    "words, the letter z shifted by one returns the letter a"
   ],
   "cell_type": "markdown",
   "metadata": {}
  },
  {
   "cell_type": "code",
   "execution_count": 4,
   "metadata": {},
   "outputs": [],
   "source": [
    "# O(n) time | O(n) space - where n is the length of the input string\n",
    "\n",
    "def encrypt(text,s):\n",
    "    result = \"\"\n",
    " \n",
    "    # traverse text\n",
    "    for i in range(len(text)):\n",
    "        char = text[i]\n",
    " \n",
    "        # Encrypt uppercase characters\n",
    "        if (char.isupper()):\n",
    "            result += chr((ord(char) + s-65) % 26 + 65)\n",
    " \n",
    "        # Encrypt lowercase characters\n",
    "        else:\n",
    "            result += chr((ord(char) + s - 97) % 26 + 97)\n",
    " \n",
    "    return result"
   ]
  },
  {
   "cell_type": "code",
   "execution_count": 6,
   "metadata": {},
   "outputs": [
    {
     "output_type": "execute_result",
     "data": {
      "text/plain": [
       "'zab'"
      ]
     },
     "metadata": {},
     "execution_count": 6
    }
   ],
   "source": [
    "encrypt(\"xyz\", 2)"
   ]
  },
  {
   "source": [
    "## Difficulty Easy: Run-Length Encoding\n",
    "\n",
    "Write a function that takes in a non-empty string and returns its run-length\n",
    "encoding. From Wikipedia, \"run-length encoding is a form of lossless data\n",
    "compression in which runs of data are stored as a single data value and count,\n",
    "rather than as the original run.\" For this problem, a run of data is any sequence\n",
    "of consecutive, identical characters. So, the run \"AAA\" would be run-lengthencoded as \"3A\". To make things more complicated, however, the input string\n",
    "can contain all sorts of special characters, including numbers. And since encoded\n",
    "data must be decodable, this means that we can't naively run-length-encode\n",
    "long runs. For example, the run \"AAAAAAAAAAAA\" (12 A’s), can't naively be\n",
    "encoded as \"12A\", since this string can be decoded as either \"AAAAAAAAAAAA\"\n",
    "or \"1AA\". Thus, long runs (runs of 10 or more characters) should be encoded in\n",
    "a split fashion; the aforementioned run should be encoded as \"9A3A\"."
   ],
   "cell_type": "markdown",
   "metadata": {}
  },
  {
   "cell_type": "code",
   "execution_count": 9,
   "metadata": {},
   "outputs": [],
   "source": [
    "def encode(message):\n",
    "    encoded_message = \"\"\n",
    "    i = 0\n",
    "   \n",
    "    while (i <= len(message)-1):\n",
    "        count = 1\n",
    "        ch = message[i]\n",
    "        j = i\n",
    "        while (j < len(message)-1):\n",
    "            if (message[j] == message[j+1]):\n",
    "                count = count+1\n",
    "                j = j+1\n",
    "            else:\n",
    "                break\n",
    "        encoded_message=encoded_message+str(count)+ch\n",
    "        i = j+1\n",
    "    return encoded_message"
   ]
  },
  {
   "cell_type": "code",
   "execution_count": 10,
   "metadata": {},
   "outputs": [
    {
     "output_type": "execute_result",
     "data": {
      "text/plain": [
       "'13A2B4C2D'"
      ]
     },
     "metadata": {},
     "execution_count": 10
    }
   ],
   "source": [
    "encode(\"AAAAAAAAAAAAABBCCCCDD\")"
   ]
  },
  {
   "source": [
    "## Difficulty Easy: Generate Document\n",
    "\n",
    "You're given a string of available characters and a string representing a\n",
    "document that you need to generate. Write a function that determines if you\n",
    "can generate the document using the available characters. If you can generate\n",
    "the document, your function should return true; otherwise, it should return\n",
    "false. You're only able to generate the document if the frequency of unique\n",
    "characters in the characters string is greater than or equal to the frequency of\n",
    "unique characters in the document string. For example, if you're given\n",
    "characters = \"abcabc\" and document = \"aabbccc\" you cannot generate the\n",
    "document because you're missing one c. The document that you need to\n",
    "create may contain any characters, including special characters, capital letters,\n",
    "numbers, and spaces. Note: you can always generate the empty string (\"\")"
   ],
   "cell_type": "markdown",
   "metadata": {}
  },
  {
   "cell_type": "code",
   "execution_count": 13,
   "metadata": {},
   "outputs": [],
   "source": [
    "# O(n + m) time | O(c) space - where n is the number of characters, m is the\n",
    "# length of the document, and c is the number of unique characters in the\n",
    "# characters string.\n",
    "def document(char, doc):\n",
    "    for character in doc:\n",
    "        docFrequency = countCharFreq(character, doc)\n",
    "        charFrequency = countCharFreq(character, char)\n",
    "        if docFrequency > charFrequency:\n",
    "            return False\n",
    "\n",
    "    return True\n",
    "\n",
    "def countCharFreq(char, target):\n",
    "    frequency = 0\n",
    "    for character in target:\n",
    "        if character == char:\n",
    "            frequency += 1\n",
    "\n",
    "    return frequency"
   ]
  },
  {
   "cell_type": "code",
   "execution_count": 16,
   "metadata": {},
   "outputs": [
    {
     "output_type": "execute_result",
     "data": {
      "text/plain": [
       "True"
      ]
     },
     "metadata": {},
     "execution_count": 16
    }
   ],
   "source": [
    "document(\"Bste!hetsi ogEAxpelrt x \", \"AlgoExpert is the Best!\")"
   ]
  },
  {
   "source": [
    "## Difficulty Easy: First Non-Repeating Character\n",
    "\n",
    "Write a function that takes in a string of lowercase English-alphabet letters and\n",
    "returns the index of the string's first non-repeating character. The first nonrepeating character is the first character in a string that occurs only once. If the\n",
    "input string doesn't have any non-repeating characters, your function should\n",
    "return -1."
   ],
   "cell_type": "markdown",
   "metadata": {}
  },
  {
   "cell_type": "code",
   "execution_count": 17,
   "metadata": {},
   "outputs": [],
   "source": [
    "def firstNonReaptingChar(string):\n",
    "    for idx in range(len(string)):\n",
    "        duplicate = False\n",
    "        for idx2 in range(len(string)):\n",
    "            if string[idx] == string[idx2] and idx != idx2:\n",
    "                duplicate = True\n",
    "            \n",
    "        if not duplicate:\n",
    "            return idx\n",
    "\n",
    "    return -1"
   ]
  },
  {
   "cell_type": "code",
   "execution_count": 19,
   "metadata": {},
   "outputs": [
    {
     "output_type": "execute_result",
     "data": {
      "text/plain": [
       "1"
      ]
     },
     "metadata": {},
     "execution_count": 19
    }
   ],
   "source": [
    "firstNonReaptingChar(\"abcdcaf\")"
   ]
  },
  {
   "source": [
    "## Difficulty Medium: Sparse Matrix Multiplication\n",
    "\n",
    "Write a function that takes in two integer matrices and multiplies them\n",
    "together. Both matrices will be sparse, meaning that most of their elements will\n",
    "be zero. Take advantage of that to reduce the number of total computations\n",
    "that your function performs. If the matrices can't be multiplied together, your\n",
    "function should return [[]].\n"
   ],
   "cell_type": "markdown",
   "metadata": {}
  },
  {
   "cell_type": "code",
   "execution_count": 25,
   "metadata": {},
   "outputs": [],
   "source": [
    "def sparseMatrixMultiplication(matrix_1, matrix_2):\n",
    "    if len(matrix_1[0]) != len(matrix_2):\n",
    "        return [[]]\n",
    "\n",
    "    sparse_1 = non_zero_cells(matrix_1)\n",
    "    sparse_2 = non_zero_cells(matrix_2)\n",
    "\n",
    "    matrix_3 = [[0] * len(matrix_2[0]) for _ in range(len(matrix_1))]\n",
    "\n",
    "    for i, k in sparse_1.keys():\n",
    "        for j in range(len(matrix_2[0])):\n",
    "            if (k, j) in sparse_2.keys():\n",
    "                matrix_3[i][j] += sparse_1[(i,k)] * sparse_2[(k,j)]\n",
    "    return matrix_3\n",
    "\n",
    "def non_zero_cells(matrix):\n",
    "    nonZerocells = {}\n",
    "    for i in range(len(matrix)):\n",
    "        for j in range(len(matrix[0])):\n",
    "            if matrix[i][j] != 0:\n",
    "                nonZerocells[(i,j)] = matrix[i][j]\n",
    "    return nonZerocells"
   ]
  },
  {
   "cell_type": "code",
   "execution_count": 26,
   "metadata": {},
   "outputs": [],
   "source": [
    "matrix_a = [\n",
    "    [0,-2,0],\n",
    "    [0,-3,5],\n",
    "]\n",
    "matrix_b = [\n",
    "    [0,10,0],\n",
    "    [0,0,0],\n",
    "    [0,0,4],\n",
    "]"
   ]
  },
  {
   "cell_type": "code",
   "execution_count": 27,
   "metadata": {},
   "outputs": [
    {
     "output_type": "execute_result",
     "data": {
      "text/plain": [
       "[[0, 0, 0], [0, 0, 20]]"
      ]
     },
     "metadata": {},
     "execution_count": 27
    }
   ],
   "source": [
    "sparseMatrixMultiplication(matrix_a, matrix_b)"
   ]
  }
 ]
}
{
 "metadata": {
  "language_info": {
   "codemirror_mode": {
    "name": "ipython",
    "version": 3
   },
   "file_extension": ".py",
   "mimetype": "text/x-python",
   "name": "python",
   "nbconvert_exporter": "python",
   "pygments_lexer": "ipython3",
   "version": "3.8.8"
  },
  "orig_nbformat": 4,
  "kernelspec": {
   "name": "python3",
   "display_name": "Python 3.8.8 64-bit ('Tensorflow': conda)"
  },
  "interpreter": {
   "hash": "6f0655b20d6bfd3c515f7d137fd3aba5ff69735610356b6669cef7608a78a3f8"
  }
 },
 "nbformat": 4,
 "nbformat_minor": 2,
 "cells": [
  {
   "source": [
    "# Topic - Strings"
   ],
   "cell_type": "markdown",
   "metadata": {}
  },
  {
   "source": [
    "## Difficulty Medium: Longest Palindromic Substring\n",
    "\n",
    "Write a function that, given a string, returns its longest palindromic\n",
    "substring. A palindrome is defined as a string that's written the same forward\n",
    "and backward. Note that single-character strings are palindromes. You can\n",
    "assume that there will only be one longest palindromic substring."
   ],
   "cell_type": "markdown",
   "metadata": {}
  },
  {
   "cell_type": "code",
   "execution_count": 4,
   "metadata": {},
   "outputs": [],
   "source": [
    "def longestPalindromeSubstring(string):\n",
    "    longest = \"\"\n",
    "    for i in range(len(string)):\n",
    "        for j in range(i, len(string)):\n",
    "            substring = string[i : j + 1]\n",
    "            if len(substring) > len(longest) and isPalindrome(substring):\n",
    "                longest = substring\n",
    "    return longest\n",
    "\n",
    "def isPalindrome(string):\n",
    "    leftIdx = 0\n",
    "    rightIdx = len(string) - 1\n",
    "    while leftIdx < rightIdx:\n",
    "        if string[leftIdx] != string[rightIdx]:\n",
    "            return False\n",
    "        leftIdx += 1\n",
    "        rightIdx += 1\n",
    "    return True\n"
   ]
  },
  {
   "source": [
    "## Difficulty Medium: Group Anagrams\n",
    "\n",
    "Write a function that takes in an array of strings and groups anagrams\n",
    "together. Anagrams are strings made up of exactly the same letters, where\n",
    "order doesn't matter. For example, \"cinema\" and \"iceman\" are anagrams;\n",
    "similarly, \"foo\" and \"ofo\" are anagrams. Your function should return a list of\n",
    "anagram groups in no particular order"
   ],
   "cell_type": "markdown",
   "metadata": {}
  },
  {
   "cell_type": "code",
   "execution_count": 6,
   "metadata": {},
   "outputs": [],
   "source": [
    "def groupAnagrams(words):\n",
    "    if len(words) == 0:\n",
    "        return []\n",
    "\n",
    "    sortedWords = [\"\".join(sorted(w)) for w in words]\n",
    "    indices = [i for i in range(len(words))]\n",
    "    indices.sort(key=lambda x: sortedWords[x])\n",
    "\n",
    "    result = []\n",
    "    currentAnagramGroup = []\n",
    "    currentAnagram = sortedWords[indices[0]]   \n",
    "    for index in indices:\n",
    "        word = words[index]\n",
    "        sortedWord = sortedWords[index]\n",
    "\n",
    "        if sortedWord == currentAnagram:\n",
    "            currentAnagramGroup.append(word)\n",
    "            continue\n",
    "\n",
    "        result.append(currentAnagramGroup)\n",
    "        currentAnagramGroup = [word]\n",
    "        currentAnagram = sortedWord\n",
    "\n",
    "    result.append(currentAnagramGroup)\n",
    "\n",
    "    return result"
   ]
  },
  {
   "source": [
    "## Difficulty Medium: Valid IP Addresses\n",
    "\n",
    "You're given a string of length 12 or smaller, containing only digits. Write a\n",
    "function that returns all the possible IP addresses that can be created by\n",
    "inserting three .s in the string. An IP address is a sequence of four positive\n",
    "integers that are separated by .s, where each individual integer is within the\n",
    "range 0 - 255, inclusive. An IP address isn't valid if any of the individual\n",
    "integers contains leading 0s. For example, \"192.168.0.1\" is a valid IP address, \n",
    "but \"192.168.00.1\" and \"192.168.0.01\" aren't, because they contain \"00\" and\n",
    "01, respectively. Another example of a valid IP address is \"99.1.1.10\";\n",
    "conversely, \"991.1.1.0\" isn't valid, because \"991\" is greater than 255. Your\n",
    "function should return the IP addresses in string format and in no particular\n",
    "order. If no valid IP addresses can be created from the string, your function\n",
    "should return an empty list. Note: check out our Systems Design\n",
    "Fundamentals on SystemsExpert to learn more about IP addresses!\n"
   ],
   "cell_type": "markdown",
   "metadata": {}
  },
  {
   "cell_type": "code",
   "execution_count": 8,
   "metadata": {},
   "outputs": [],
   "source": [
    "def validIpAddress(string):\n",
    "    ipAddressFound = []\n",
    "\n",
    "    for i in range(1, min(len(string), 4)):\n",
    "        currentIpParts = [\"\",\"\",\"\",\"\"]\n",
    "\n",
    "        currentIpParts[0] = string[:i]\n",
    "        if not isValidPart(currentIpParts[0]):\n",
    "            continue\n",
    "\n",
    "        for j in range(i + 1, i + min(len(string) - i, 4)):\n",
    "            currentIpParts[1] = string[i:j]\n",
    "            if not isValidPart(currentIpParts[1]):\n",
    "                continue\n",
    "            for k in range(j + 1, j + min(len(string) - j, 4)):\n",
    "                currentIpParts[2] = string[j:k]\n",
    "                currentIpParts[3] = string[k:]\n",
    "\n",
    "                if isValidPart(currentIpParts[2]) and isValidPart(currentIpParts[3]):\n",
    "                    ipAddressFound.append(\".\".join(currentIpParts))\n",
    "    \n",
    "    return ipAddressFound\n",
    "\n",
    "def isValidPart(string):\n",
    "    stringAsInt = int(string)\n",
    "    if stringAsInt > 255:\n",
    "        return False\n",
    "    \n",
    "    return len(string) == len(str(stringAsInt))"
   ]
  },
  {
   "source": [
    "## Difficulty Medium: Reverse Words In String\n",
    "\n",
    "Write a function that takes in a string of words separated by one or more\n",
    "whitespaces and returns a string that has these words in reverse order. For\n",
    "example, given the string \"tim is great\", your function should return \"great is\n",
    "tim\". For this problem, a word can contain special characters, punctuation,\n",
    "and numbers. The words in the string will be separated by one or more\n",
    "whitespaces, and the reversed string must contain the same whitespaces as\n",
    "the original string. For example, given the string \"whitespaces 4\" you would\n",
    "be expected to return \"4 whitespaces\". Note that you're not allowed to to\n",
    "use any built-in split or reverse methods/functions. However, you are\n",
    "allowed to use a built-in join method/function. Also note that the input\n",
    "string isn't guaranteed to always contain words.\n"
   ],
   "cell_type": "markdown",
   "metadata": {}
  },
  {
   "cell_type": "code",
   "execution_count": 11,
   "metadata": {},
   "outputs": [],
   "source": [
    "def reverse(string):\n",
    "    string = \" \".join(string.split()[::-1])\n",
    "    return string"
   ]
  },
  {
   "cell_type": "code",
   "execution_count": 12,
   "metadata": {},
   "outputs": [
    {
     "output_type": "execute_result",
     "data": {
      "text/plain": [
       "'best! the is Demo'"
      ]
     },
     "metadata": {},
     "execution_count": 12
    }
   ],
   "source": [
    "reverse(\"Demo is the best!\")"
   ]
  },
  {
   "source": [
    "## Difficulty Medium: Minimum Characters For Words\n",
    "\n",
    "Write a function that takes in an array of words and returns the smallest array\n",
    "of characters needed to form all of the words. The characters don't need to be\n",
    "in any particular order. For example, the characters [\"y\", \"r\", \"o\", \"u\"] are\n",
    "needed to form the words [\"your\", \"you\", \"or\", \"yo\"]. Note: the input words\n",
    "won't contain any spaces; however, they might contain punctuation and/or\n",
    "special characters."
   ],
   "cell_type": "markdown",
   "metadata": {}
  },
  {
   "cell_type": "code",
   "execution_count": 13,
   "metadata": {},
   "outputs": [],
   "source": [
    "def minimumCharForWords(words):\n",
    "    maxCharFrequencies = {}\n",
    "\n",
    "    for word in words:\n",
    "        charFrequencies = countFrequency(word)\n",
    "        updatedMaxFrequency(charFrequencies, maxCharFrequencies)\n",
    "\n",
    "    return makeArrayFromCharFrequency(maxCharFrequencies)\n",
    "\n",
    "def countFrequency(string):\n",
    "    charFrequencies = {}\n",
    "\n",
    "    for charater in string:\n",
    "         if charater not in charFrequencies:\n",
    "             charFrequencies[charater] = 0\n",
    "\n",
    "         charFrequencies[charater] += 1\n",
    "\n",
    "    return charFrequencies\n",
    "\n",
    "\n",
    "def updatedMaxFrequency(frequencies, maxFrequencies):\n",
    "    for charater in frequencies:\n",
    "        frequency = frequencies[charater]\n",
    "\n",
    "        if charater in maxFrequencies:\n",
    "            maxFrequencies[charater] = max(frequency, maxFrequencies[charater])\n",
    "        else:\n",
    "            maxFrequencies[charater] = frequency\n",
    "\n",
    "        \n",
    "def makeArrayFromCharFrequency(charFrequencies):\n",
    "    charaters = []\n",
    "    for charater in charFrequencies:\n",
    "        frequency = charFrequencies[charater]\n",
    "\n",
    "        for _ in range(frequency):\n",
    "            charaters.append(charater)\n",
    "\n",
    "    return charaters\n",
    "\n",
    "\n"
   ]
  },
  {
   "source": [
    "## Difficulty Medium: Get Statistics\n",
    "\n",
    "Write a function that takes in a list of numbers and returns a dictionary\n",
    "containing the following statistics about the numbers: the mean, median,\n",
    "mode, sample variance, sample standard deviation, and 95% confidence\n",
    "interval for the mean. "
   ],
   "cell_type": "markdown",
   "metadata": {}
  },
  {
   "cell_type": "code",
   "execution_count": 15,
   "metadata": {},
   "outputs": [],
   "source": [
    "def get_stats(list):\n",
    "    sorted_input = sorted(list)\n",
    "    input_length = len(sorted_input)\n",
    "\n",
    "    mean = sum(sorted_input) / input_length\n",
    "\n",
    "    middle_idx = (len(sorted_input) - 1) // 2\n",
    "    median = sorted_input[middle_idx]\n",
    "\n",
    "    if input_length % 2 == 0:\n",
    "        middle_number_1 = sorted_input[middle_idx]\n",
    "        middle_number_2 = sorted_input[middle_idx + 1]\n",
    "        median = (middle_number_1 + middle_number_2) / 2\n",
    "    number_counts = {x: sorted_input.count(x) for x in set(sorted_input)}\n",
    "    mode = max(number_counts.keys(), key=lambda unique_number: number_counts[unique_numer])\n",
    "\n",
    "    sample_variance = sum([(number - mean) ** 2 / (input_length - 1) for number in sorted_input])\n",
    "    sample_standard_deviation = sample_variance ** 0.5\n",
    "\n",
    "    mean_standard_error = sample_standard_deviation / input_length ** 0.5\n",
    "    z_score_standard_Error = 1.96 * mean_standard_error\n",
    "    mean_confidence_internval = [mean - z_score_standard_Error, mean + z_score_standard_Error]\n",
    "\n",
    "    return {\n",
    "        \"mean\": mean,\n",
    "        \"median\": median,\n",
    "        \"mode\": mode,\n",
    "        \"sample_variance\": sample_variance,\n",
    "        \"sample_standard_deviation\": sample_standard_deviation,\n",
    "        \"mean_confidence_interval\": mean_confidence_internval,\n",
    "    }\n"
   ]
  },
  {
   "cell_type": "code",
   "execution_count": null,
   "metadata": {},
   "outputs": [],
   "source": []
  }
 ]
}